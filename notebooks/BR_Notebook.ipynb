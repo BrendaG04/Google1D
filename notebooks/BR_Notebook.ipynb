{
  "cells": [
    {
      "cell_type": "markdown",
      "metadata": {
        "colab_type": "text",
        "id": "view-in-github"
      },
      "source": [
        "<a href=\"https://colab.research.google.com/github/BrendaG04/Google1D/blob/main/notebooks/BR_Notebook.ipynb\" target=\"_parent\"><img src=\"https://colab.research.google.com/assets/colab-badge.svg\" alt=\"Open In Colab\"/></a>"
      ]
    },
    {
      "cell_type": "code",
      "execution_count": 77,
      "metadata": {
        "id": "ISovQ_4l8LqC"
      },
      "outputs": [],
      "source": [
        "import os\n",
        "import pandas as pd\n",
        "import numpy as np\n",
        "%matplotlib inline\n",
        "import matplotlib.pyplot as plt \n",
        "import seaborn as sns"
      ]
    },
    {
      "cell_type": "code",
      "execution_count": 78,
      "metadata": {},
      "outputs": [],
      "source": [
        "filename = os.path.join(os.getcwd(), \"..\", \"datasets\", \"BR_youtube_trending_data.csv\")"
      ]
    },
    {
      "cell_type": "code",
      "execution_count": 79,
      "metadata": {},
      "outputs": [],
      "source": [
        "df = pd.read_csv(filename, header=0)"
      ]
    },
    {
      "cell_type": "code",
      "execution_count": 80,
      "metadata": {},
      "outputs": [
        {
          "data": {
            "text/plain": [
              "(268790, 16)"
            ]
          },
          "execution_count": 80,
          "metadata": {},
          "output_type": "execute_result"
        }
      ],
      "source": [
        "df.shape"
      ]
    },
    {
      "cell_type": "code",
      "execution_count": 81,
      "metadata": {},
      "outputs": [
        {
          "data": {
            "text/plain": [
              "['video_id',\n",
              " 'title',\n",
              " 'publishedAt',\n",
              " 'channelId',\n",
              " 'channelTitle',\n",
              " 'categoryId',\n",
              " 'trending_date',\n",
              " 'tags',\n",
              " 'view_count',\n",
              " 'likes',\n",
              " 'dislikes',\n",
              " 'comment_count',\n",
              " 'thumbnail_link',\n",
              " 'comments_disabled',\n",
              " 'ratings_disabled',\n",
              " 'description']"
            ]
          },
          "execution_count": 81,
          "metadata": {},
          "output_type": "execute_result"
        }
      ],
      "source": [
        "column_names = list(df.columns)\n",
        "column_names"
      ]
    },
    {
      "cell_type": "code",
      "execution_count": 82,
      "metadata": {},
      "outputs": [
        {
          "data": {
            "text/html": [
              "<div>\n",
              "<style scoped>\n",
              "    .dataframe tbody tr th:only-of-type {\n",
              "        vertical-align: middle;\n",
              "    }\n",
              "\n",
              "    .dataframe tbody tr th {\n",
              "        vertical-align: top;\n",
              "    }\n",
              "\n",
              "    .dataframe thead th {\n",
              "        text-align: right;\n",
              "    }\n",
              "</style>\n",
              "<table border=\"1\" class=\"dataframe\">\n",
              "  <thead>\n",
              "    <tr style=\"text-align: right;\">\n",
              "      <th></th>\n",
              "      <th>video_id</th>\n",
              "      <th>title</th>\n",
              "      <th>publishedAt</th>\n",
              "      <th>channelId</th>\n",
              "      <th>channelTitle</th>\n",
              "      <th>categoryId</th>\n",
              "      <th>trending_date</th>\n",
              "      <th>tags</th>\n",
              "      <th>view_count</th>\n",
              "      <th>likes</th>\n",
              "      <th>dislikes</th>\n",
              "      <th>comment_count</th>\n",
              "      <th>thumbnail_link</th>\n",
              "      <th>comments_disabled</th>\n",
              "      <th>ratings_disabled</th>\n",
              "      <th>description</th>\n",
              "    </tr>\n",
              "  </thead>\n",
              "  <tbody>\n",
              "    <tr>\n",
              "      <th>0</th>\n",
              "      <td>s9FH4rDMvds</td>\n",
              "      <td>LEVEI UM FORA? FINGI ESTAR APAIXONADO POR ELA!</td>\n",
              "      <td>2020-08-11T22:21:49Z</td>\n",
              "      <td>UCGfBwrCoi9ZJjKiUK8MmJNw</td>\n",
              "      <td>Pietro Guedes</td>\n",
              "      <td>22</td>\n",
              "      <td>2020-08-12T00:00:00Z</td>\n",
              "      <td>pietro|guedes|ingrid|ohara|pingrid|vlog|amigos...</td>\n",
              "      <td>263835</td>\n",
              "      <td>85095</td>\n",
              "      <td>487</td>\n",
              "      <td>4500</td>\n",
              "      <td>https://i.ytimg.com/vi/s9FH4rDMvds/default.jpg</td>\n",
              "      <td>False</td>\n",
              "      <td>False</td>\n",
              "      <td>Salve rapaziada, neste vídeo me declarei pra e...</td>\n",
              "    </tr>\n",
              "    <tr>\n",
              "      <th>1</th>\n",
              "      <td>jbGRowa5tIk</td>\n",
              "      <td>ITZY “Not Shy” M/V TEASER</td>\n",
              "      <td>2020-08-11T15:00:13Z</td>\n",
              "      <td>UCaO6TYtlC8U5ttz62hTrZgg</td>\n",
              "      <td>JYP Entertainment</td>\n",
              "      <td>10</td>\n",
              "      <td>2020-08-12T00:00:00Z</td>\n",
              "      <td>JYP Entertainment|JYP|ITZY|있지|ITZY Video|ITZY ...</td>\n",
              "      <td>6000070</td>\n",
              "      <td>714310</td>\n",
              "      <td>15176</td>\n",
              "      <td>31040</td>\n",
              "      <td>https://i.ytimg.com/vi/jbGRowa5tIk/default.jpg</td>\n",
              "      <td>False</td>\n",
              "      <td>False</td>\n",
              "      <td>ITZY Not Shy M/V[ITZY Official] https://www.yo...</td>\n",
              "    </tr>\n",
              "    <tr>\n",
              "      <th>2</th>\n",
              "      <td>3EfkCrXKZNs</td>\n",
              "      <td>Oh Juliana PARÓDIA - MC Niack</td>\n",
              "      <td>2020-08-10T14:59:00Z</td>\n",
              "      <td>UCoXZmVma073v5G1cW82UKkA</td>\n",
              "      <td>As Irmãs Mota</td>\n",
              "      <td>22</td>\n",
              "      <td>2020-08-12T00:00:00Z</td>\n",
              "      <td>OH JULIANA PARÓDIA|MC Niack PARÓDIA|PARÓDIAS|A...</td>\n",
              "      <td>2296748</td>\n",
              "      <td>39761</td>\n",
              "      <td>5484</td>\n",
              "      <td>0</td>\n",
              "      <td>https://i.ytimg.com/vi/3EfkCrXKZNs/default.jpg</td>\n",
              "      <td>True</td>\n",
              "      <td>False</td>\n",
              "      <td>Se inscrevam meus amores! 📬 Quer nos mandar al...</td>\n",
              "    </tr>\n",
              "    <tr>\n",
              "      <th>3</th>\n",
              "      <td>gBjox7vn3-g</td>\n",
              "      <td>Contos de Runeterra: Targon | A Estrada Tortuosa</td>\n",
              "      <td>2020-08-11T15:00:09Z</td>\n",
              "      <td>UC6Xqz2pm50gDCORYztqhDpg</td>\n",
              "      <td>League of Legends BR</td>\n",
              "      <td>20</td>\n",
              "      <td>2020-08-12T00:00:00Z</td>\n",
              "      <td>Riot|Riot Games|League of Legends|lol|trailer|...</td>\n",
              "      <td>300510</td>\n",
              "      <td>46222</td>\n",
              "      <td>242</td>\n",
              "      <td>2748</td>\n",
              "      <td>https://i.ytimg.com/vi/gBjox7vn3-g/default.jpg</td>\n",
              "      <td>False</td>\n",
              "      <td>False</td>\n",
              "      <td>Você se unirá aos Lunari e aos Solari em Targo...</td>\n",
              "    </tr>\n",
              "    <tr>\n",
              "      <th>4</th>\n",
              "      <td>npoUGx7UW7o</td>\n",
              "      <td>Entrevista com Thammy Miranda | The Noite (10/...</td>\n",
              "      <td>2020-08-11T20:04:02Z</td>\n",
              "      <td>UCEWOoncsrmirqnFqxer9lmA</td>\n",
              "      <td>The Noite com Danilo Gentili</td>\n",
              "      <td>23</td>\n",
              "      <td>2020-08-12T00:00:00Z</td>\n",
              "      <td>The Noite|The Noite com Danilo Gentili|Danilo ...</td>\n",
              "      <td>327235</td>\n",
              "      <td>22059</td>\n",
              "      <td>3972</td>\n",
              "      <td>2751</td>\n",
              "      <td>https://i.ytimg.com/vi/npoUGx7UW7o/default.jpg</td>\n",
              "      <td>False</td>\n",
              "      <td>False</td>\n",
              "      <td>Danilo Gentili recebe Thammy Miranda. Após pas...</td>\n",
              "    </tr>\n",
              "  </tbody>\n",
              "</table>\n",
              "</div>"
            ],
            "text/plain": [
              "      video_id                                              title  \\\n",
              "0  s9FH4rDMvds     LEVEI UM FORA? FINGI ESTAR APAIXONADO POR ELA!   \n",
              "1  jbGRowa5tIk                          ITZY “Not Shy” M/V TEASER   \n",
              "2  3EfkCrXKZNs                      Oh Juliana PARÓDIA - MC Niack   \n",
              "3  gBjox7vn3-g   Contos de Runeterra: Targon | A Estrada Tortuosa   \n",
              "4  npoUGx7UW7o  Entrevista com Thammy Miranda | The Noite (10/...   \n",
              "\n",
              "            publishedAt                 channelId  \\\n",
              "0  2020-08-11T22:21:49Z  UCGfBwrCoi9ZJjKiUK8MmJNw   \n",
              "1  2020-08-11T15:00:13Z  UCaO6TYtlC8U5ttz62hTrZgg   \n",
              "2  2020-08-10T14:59:00Z  UCoXZmVma073v5G1cW82UKkA   \n",
              "3  2020-08-11T15:00:09Z  UC6Xqz2pm50gDCORYztqhDpg   \n",
              "4  2020-08-11T20:04:02Z  UCEWOoncsrmirqnFqxer9lmA   \n",
              "\n",
              "                   channelTitle  categoryId         trending_date  \\\n",
              "0                 Pietro Guedes          22  2020-08-12T00:00:00Z   \n",
              "1             JYP Entertainment          10  2020-08-12T00:00:00Z   \n",
              "2                 As Irmãs Mota          22  2020-08-12T00:00:00Z   \n",
              "3          League of Legends BR          20  2020-08-12T00:00:00Z   \n",
              "4  The Noite com Danilo Gentili          23  2020-08-12T00:00:00Z   \n",
              "\n",
              "                                                tags  view_count   likes  \\\n",
              "0  pietro|guedes|ingrid|ohara|pingrid|vlog|amigos...      263835   85095   \n",
              "1  JYP Entertainment|JYP|ITZY|있지|ITZY Video|ITZY ...     6000070  714310   \n",
              "2  OH JULIANA PARÓDIA|MC Niack PARÓDIA|PARÓDIAS|A...     2296748   39761   \n",
              "3  Riot|Riot Games|League of Legends|lol|trailer|...      300510   46222   \n",
              "4  The Noite|The Noite com Danilo Gentili|Danilo ...      327235   22059   \n",
              "\n",
              "   dislikes  comment_count                                  thumbnail_link  \\\n",
              "0       487           4500  https://i.ytimg.com/vi/s9FH4rDMvds/default.jpg   \n",
              "1     15176          31040  https://i.ytimg.com/vi/jbGRowa5tIk/default.jpg   \n",
              "2      5484              0  https://i.ytimg.com/vi/3EfkCrXKZNs/default.jpg   \n",
              "3       242           2748  https://i.ytimg.com/vi/gBjox7vn3-g/default.jpg   \n",
              "4      3972           2751  https://i.ytimg.com/vi/npoUGx7UW7o/default.jpg   \n",
              "\n",
              "   comments_disabled  ratings_disabled  \\\n",
              "0              False             False   \n",
              "1              False             False   \n",
              "2               True             False   \n",
              "3              False             False   \n",
              "4              False             False   \n",
              "\n",
              "                                         description  \n",
              "0  Salve rapaziada, neste vídeo me declarei pra e...  \n",
              "1  ITZY Not Shy M/V[ITZY Official] https://www.yo...  \n",
              "2  Se inscrevam meus amores! 📬 Quer nos mandar al...  \n",
              "3  Você se unirá aos Lunari e aos Solari em Targo...  \n",
              "4  Danilo Gentili recebe Thammy Miranda. Após pas...  "
            ]
          },
          "execution_count": 82,
          "metadata": {},
          "output_type": "execute_result"
        }
      ],
      "source": [
        "df.head()"
      ]
    },
    {
      "cell_type": "code",
      "execution_count": 83,
      "metadata": {},
      "outputs": [
        {
          "data": {
            "text/plain": [
              "video_id                 0\n",
              "title                    0\n",
              "publishedAt              0\n",
              "channelId                0\n",
              "channelTitle             0\n",
              "categoryId               0\n",
              "trending_date            0\n",
              "tags                     0\n",
              "view_count               0\n",
              "likes                    0\n",
              "dislikes                 0\n",
              "comment_count            0\n",
              "thumbnail_link           0\n",
              "comments_disabled        0\n",
              "ratings_disabled         0\n",
              "description          11538\n",
              "dtype: int64"
            ]
          },
          "execution_count": 83,
          "metadata": {},
          "output_type": "execute_result"
        }
      ],
      "source": [
        "nan_count =  df.isna().sum()\n",
        "nan_count"
      ]
    },
    {
      "cell_type": "code",
      "execution_count": 84,
      "metadata": {},
      "outputs": [
        {
          "data": {
            "text/plain": [
              "video_id             object\n",
              "title                object\n",
              "publishedAt          object\n",
              "channelId            object\n",
              "channelTitle         object\n",
              "categoryId            int64\n",
              "trending_date        object\n",
              "tags                 object\n",
              "view_count            int64\n",
              "likes                 int64\n",
              "dislikes              int64\n",
              "comment_count         int64\n",
              "thumbnail_link       object\n",
              "comments_disabled      bool\n",
              "ratings_disabled       bool\n",
              "description          object\n",
              "dtype: object"
            ]
          },
          "execution_count": 84,
          "metadata": {},
          "output_type": "execute_result"
        }
      ],
      "source": [
        "df.dtypes"
      ]
    },
    {
      "cell_type": "code",
      "execution_count": 85,
      "metadata": {},
      "outputs": [],
      "source": [
        "df[\"comments_disabled\"] = df[\"comments_disabled\"].astype(int)\n",
        "df[\"ratings_disabled\"]  = df[\"ratings_disabled\"].astype(int)"
      ]
    },
    {
      "cell_type": "code",
      "execution_count": 86,
      "metadata": {},
      "outputs": [],
      "source": [
        "to_drop = [\n",
        "    \"video_id\", \"channelId\", \"thumbnail_link\",\n",
        "    \"description\", \"publishedAt\", \"trending_date\",\n",
        "    \"channelTitle\", \"channelTitle_top\"\n",
        "]\n",
        "\n",
        "df_model = df.drop(columns=[c for c in to_drop if c in df.columns])\n"
      ]
    },
    {
      "cell_type": "code",
      "execution_count": 87,
      "metadata": {},
      "outputs": [
        {
          "data": {
            "text/html": [
              "<div>\n",
              "<style scoped>\n",
              "    .dataframe tbody tr th:only-of-type {\n",
              "        vertical-align: middle;\n",
              "    }\n",
              "\n",
              "    .dataframe tbody tr th {\n",
              "        vertical-align: top;\n",
              "    }\n",
              "\n",
              "    .dataframe thead th {\n",
              "        text-align: right;\n",
              "    }\n",
              "</style>\n",
              "<table border=\"1\" class=\"dataframe\">\n",
              "  <thead>\n",
              "    <tr style=\"text-align: right;\">\n",
              "      <th></th>\n",
              "      <th>title</th>\n",
              "      <th>categoryId</th>\n",
              "      <th>tags</th>\n",
              "      <th>view_count</th>\n",
              "      <th>likes</th>\n",
              "      <th>dislikes</th>\n",
              "      <th>comment_count</th>\n",
              "      <th>comments_disabled</th>\n",
              "      <th>ratings_disabled</th>\n",
              "    </tr>\n",
              "  </thead>\n",
              "  <tbody>\n",
              "    <tr>\n",
              "      <th>0</th>\n",
              "      <td>LEVEI UM FORA? FINGI ESTAR APAIXONADO POR ELA!</td>\n",
              "      <td>22</td>\n",
              "      <td>pietro|guedes|ingrid|ohara|pingrid|vlog|amigos...</td>\n",
              "      <td>263835</td>\n",
              "      <td>85095</td>\n",
              "      <td>487</td>\n",
              "      <td>4500</td>\n",
              "      <td>0</td>\n",
              "      <td>0</td>\n",
              "    </tr>\n",
              "    <tr>\n",
              "      <th>1</th>\n",
              "      <td>ITZY “Not Shy” M/V TEASER</td>\n",
              "      <td>10</td>\n",
              "      <td>JYP Entertainment|JYP|ITZY|있지|ITZY Video|ITZY ...</td>\n",
              "      <td>6000070</td>\n",
              "      <td>714310</td>\n",
              "      <td>15176</td>\n",
              "      <td>31040</td>\n",
              "      <td>0</td>\n",
              "      <td>0</td>\n",
              "    </tr>\n",
              "    <tr>\n",
              "      <th>2</th>\n",
              "      <td>Oh Juliana PARÓDIA - MC Niack</td>\n",
              "      <td>22</td>\n",
              "      <td>OH JULIANA PARÓDIA|MC Niack PARÓDIA|PARÓDIAS|A...</td>\n",
              "      <td>2296748</td>\n",
              "      <td>39761</td>\n",
              "      <td>5484</td>\n",
              "      <td>0</td>\n",
              "      <td>1</td>\n",
              "      <td>0</td>\n",
              "    </tr>\n",
              "    <tr>\n",
              "      <th>3</th>\n",
              "      <td>Contos de Runeterra: Targon | A Estrada Tortuosa</td>\n",
              "      <td>20</td>\n",
              "      <td>Riot|Riot Games|League of Legends|lol|trailer|...</td>\n",
              "      <td>300510</td>\n",
              "      <td>46222</td>\n",
              "      <td>242</td>\n",
              "      <td>2748</td>\n",
              "      <td>0</td>\n",
              "      <td>0</td>\n",
              "    </tr>\n",
              "    <tr>\n",
              "      <th>4</th>\n",
              "      <td>Entrevista com Thammy Miranda | The Noite (10/...</td>\n",
              "      <td>23</td>\n",
              "      <td>The Noite|The Noite com Danilo Gentili|Danilo ...</td>\n",
              "      <td>327235</td>\n",
              "      <td>22059</td>\n",
              "      <td>3972</td>\n",
              "      <td>2751</td>\n",
              "      <td>0</td>\n",
              "      <td>0</td>\n",
              "    </tr>\n",
              "  </tbody>\n",
              "</table>\n",
              "</div>"
            ],
            "text/plain": [
              "                                               title  categoryId  \\\n",
              "0     LEVEI UM FORA? FINGI ESTAR APAIXONADO POR ELA!          22   \n",
              "1                          ITZY “Not Shy” M/V TEASER          10   \n",
              "2                      Oh Juliana PARÓDIA - MC Niack          22   \n",
              "3   Contos de Runeterra: Targon | A Estrada Tortuosa          20   \n",
              "4  Entrevista com Thammy Miranda | The Noite (10/...          23   \n",
              "\n",
              "                                                tags  view_count   likes  \\\n",
              "0  pietro|guedes|ingrid|ohara|pingrid|vlog|amigos...      263835   85095   \n",
              "1  JYP Entertainment|JYP|ITZY|있지|ITZY Video|ITZY ...     6000070  714310   \n",
              "2  OH JULIANA PARÓDIA|MC Niack PARÓDIA|PARÓDIAS|A...     2296748   39761   \n",
              "3  Riot|Riot Games|League of Legends|lol|trailer|...      300510   46222   \n",
              "4  The Noite|The Noite com Danilo Gentili|Danilo ...      327235   22059   \n",
              "\n",
              "   dislikes  comment_count  comments_disabled  ratings_disabled  \n",
              "0       487           4500                  0                 0  \n",
              "1     15176          31040                  0                 0  \n",
              "2      5484              0                  1                 0  \n",
              "3       242           2748                  0                 0  \n",
              "4      3972           2751                  0                 0  "
            ]
          },
          "execution_count": 87,
          "metadata": {},
          "output_type": "execute_result"
        }
      ],
      "source": [
        "df_model.head()"
      ]
    }
  ],
  "metadata": {
    "colab": {
      "authorship_tag": "ABX9TyOlSWH/00eWvpuA4jZbVZda",
      "include_colab_link": true,
      "provenance": []
    },
    "kernelspec": {
      "display_name": ".venv",
      "language": "python",
      "name": "python3"
    },
    "language_info": {
      "codemirror_mode": {
        "name": "ipython",
        "version": 3
      },
      "file_extension": ".py",
      "mimetype": "text/x-python",
      "name": "python",
      "nbconvert_exporter": "python",
      "pygments_lexer": "ipython3",
      "version": "3.13.3"
    }
  },
  "nbformat": 4,
  "nbformat_minor": 0
}
